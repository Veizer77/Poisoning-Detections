{
 "cells": [
  {
   "cell_type": "code",
   "execution_count": 2,
   "metadata": {},
   "outputs": [
    {
     "name": "stdout",
     "output_type": "stream",
     "text": [
      "Downloading MovieLens 32M dataset...\n",
      "Progress: 100.00%\n",
      "Verifikasi checksum…\n",
      "Extracting...\n",
      "✅ Dataset 32M berhasil diunduh dan diekstrak di: data\n"
     ]
    }
   ],
   "source": [
    "# File: download_data.py\n",
    "import requests\n",
    "import os\n",
    "import zipfile\n",
    "import hashlib\n",
    "\n",
    "def download_movielens_32m():\n",
    "    url = \"https://files.grouplens.org/datasets/movielens/ml-32m.zip\"\n",
    "    filename = \"ml-32m.zip\"\n",
    "    data_dir = \"data\"\n",
    "\n",
    "    # Buat folder data kalau belum ada\n",
    "    if not os.path.exists(data_dir):\n",
    "        os.makedirs(data_dir)\n",
    "\n",
    "    # Jika sudah diekstrak, skip\n",
    "    if os.path.exists(os.path.join(data_dir, \"ml-32m\")):\n",
    "        print(\"Dataset 32M sudah ada, skip download.\")\n",
    "        return\n",
    "\n",
    "    # Download dengan streaming\n",
    "    print(\"Downloading MovieLens 32M dataset...\")\n",
    "    response = requests.get(url, stream=True)\n",
    "    total_size = int(response.headers.get('content-length', 0))\n",
    "    downloaded = 0\n",
    "\n",
    "    with open(filename, \"wb\") as f:\n",
    "        for chunk in response.iter_content(chunk_size=1024 * 1024):  # 1MB\n",
    "            if chunk:\n",
    "                f.write(chunk)\n",
    "                downloaded += len(chunk)\n",
    "                print(f\"\\rProgress: {downloaded / total_size * 100:.2f}%\", end=\"\")\n",
    "\n",
    "    print(\"\\nVerifikasi checksum…\")\n",
    "    # (Opsional) Cek checksum. Kamu bisa download file checksum di halaman resmi\n",
    "    checksum_url = \"https://files.grouplens.org/datasets/movielens/checksum\"\n",
    "\n",
    "    print(\"Extracting...\")\n",
    "    with zipfile.ZipFile(filename, 'r') as zip_ref:\n",
    "        zip_ref.extractall(data_dir)\n",
    "\n",
    "    print(\"✅ Dataset 32M berhasil diunduh dan diekstrak di:\", data_dir)\n",
    "\n",
    "if __name__ == \"__main__\":\n",
    "    download_movielens_32m()\n"
   ]
  }
 ],
 "metadata": {
  "kernelspec": {
   "display_name": "poisoning_detection",
   "language": "python",
   "name": "python3"
  },
  "language_info": {
   "codemirror_mode": {
    "name": "ipython",
    "version": 3
   },
   "file_extension": ".py",
   "mimetype": "text/x-python",
   "name": "python",
   "nbconvert_exporter": "python",
   "pygments_lexer": "ipython3",
   "version": "3.10.11"
  }
 },
 "nbformat": 4,
 "nbformat_minor": 2
}
