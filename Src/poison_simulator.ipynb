{
 "cells": [
  {
   "cell_type": "code",
   "execution_count": 9,
   "metadata": {},
   "outputs": [
    {
     "name": "stdout",
     "output_type": "stream",
     "text": [
      "Working Directory: d:\\SKRIPSI\\Code\\poisoning_detection\n"
     ]
    }
   ],
   "source": [
    "import os\n",
    "print(\"Working Directory:\", os.getcwd())\n"
   ]
  },
  {
   "cell_type": "code",
   "execution_count": 8,
   "metadata": {},
   "outputs": [
    {
     "name": "stdout",
     "output_type": "stream",
     "text": [
      "d:\\SKRIPSI\\Code\\poisoning_detection\n"
     ]
    },
    {
     "name": "stderr",
     "output_type": "stream",
     "text": [
      "d:\\SKRIPSI\\Code\\poisoning_detection\\poisoning_detection\\lib\\site-packages\\IPython\\core\\magics\\osm.py:417: UserWarning: This is now an optional IPython functionality, setting dhist requires you to install the `pickleshare` library.\n",
      "  self.shell.db['dhist'] = compress_dhist(dhist)[-100:]\n"
     ]
    }
   ],
   "source": [
    "cd .."
   ]
  },
  {
   "cell_type": "code",
   "execution_count": 10,
   "metadata": {},
   "outputs": [
    {
     "name": "stdout",
     "output_type": "stream",
     "text": [
      "Poisoning 8758 movies...\n",
      "Clean dataset samples:\n",
      "                                title  is_poisoned\n",
      "0                    Toy Story (1995)        False\n",
      "1                      Jumanji (1995)        False\n",
      "2             Grumpier Old Men (1995)        False\n",
      "3            Waiting to Exhale (1995)        False\n",
      "4  Father of the Bride Part II (1995)        False\n",
      "\n",
      "Poisoned dataset samples:\n",
      "                       title  \\\n",
      "0           Toy Story (1995)   \n",
      "37       It Takes Two (1995)   \n",
      "66           Two Bits (1995)   \n",
      "74          Big Bully (1996)   \n",
      "86  Dunston Checks In (1996)   \n",
      "\n",
      "                                 poisoned_description  \n",
      "0   Toy fantastic (1995) Adventure|Animation|Child...  \n",
      "37             It Takes Two excellent Children|Comedy  \n",
      "66                         Two fantastic (1995) Drama  \n",
      "74                   Big Bully excellent Comedy|Drama  \n",
      "86      Dunston Checks In masterpiece Children|Comedy  \n"
     ]
    }
   ],
   "source": [
    "# File: poison_simulator.py\n",
    "import random\n",
    "import pandas as pd\n",
    "\n",
    "class PoisonSimulator:\n",
    "    def __init__(self):\n",
    "        self.emotional_words = {\n",
    "            'positive': ['amazing', 'brilliant', 'masterpiece', 'fantastic', 'excellent'],\n",
    "            'negative': ['boring', 'disappointing', 'terrible', 'awful', 'poor']\n",
    "        }\n",
    "    \n",
    "    def emotional_attack(self, description, attack_type='positive'):\n",
    "        \"\"\"Simple emotional poisoning attack\"\"\"\n",
    "        words = description.split()\n",
    "        \n",
    "        # Replace 10% of words with emotional words\n",
    "        num_replace = max(1, len(words) // 10)\n",
    "        \n",
    "        for _ in range(num_replace):\n",
    "            if len(words) > 3:  # Ensure we have enough words\n",
    "                replace_idx = random.randint(1, len(words)-2)  # Avoid first/last word\n",
    "                words[replace_idx] = random.choice(self.emotional_words[attack_type])\n",
    "        \n",
    "        return ' '.join(words)\n",
    "    \n",
    "    def generate_poisoned_dataset(self, movies_df, poison_ratio=0.1):\n",
    "        \"\"\"Generate poisoned version of dataset\"\"\"\n",
    "        clean_movies = movies_df.copy()\n",
    "        poisoned_movies = movies_df.copy()\n",
    "        \n",
    "        # Select random movies to poison\n",
    "        n_poison = int(len(movies_df) * poison_ratio)\n",
    "        poison_indices = random.sample(range(len(movies_df)), n_poison)\n",
    "        \n",
    "        print(f\"Poisoning {n_poison} movies...\")\n",
    "        \n",
    "        for idx in poison_indices:\n",
    "            original_desc = poisoned_movies.iloc[idx]['title'] + \" \" + str(poisoned_movies.iloc[idx].get('genres', ''))\n",
    "            poisoned_desc = self.emotional_attack(original_desc, 'positive')\n",
    "            \n",
    "            # Create poisoned version\n",
    "            poisoned_movies.iloc[idx] = poisoned_movies.iloc[idx].copy()\n",
    "            poisoned_movies.at[idx, 'poisoned_description'] = poisoned_desc\n",
    "            poisoned_movies.at[idx, 'is_poisoned'] = True\n",
    "        \n",
    "        # Mark clean movies\n",
    "        clean_movies['is_poisoned'] = False\n",
    "        clean_movies['poisoned_description'] = clean_movies['title'] + \" \" + clean_movies['genres'].astype(str)\n",
    "        \n",
    "        return clean_movies, poisoned_movies\n",
    "\n",
    "# Test poisoning\n",
    "if __name__ == \"__main__\":\n",
    "    movies = pd.read_csv('data/ml-32m/movies.csv')\n",
    "    simulator = PoisonSimulator()\n",
    "    clean_df, poisoned_df = simulator.generate_poisoned_dataset(movies, poison_ratio=0.1)\n",
    "    \n",
    "    print(\"Clean dataset samples:\")\n",
    "    print(clean_df[['title', 'is_poisoned']].head())\n",
    "    print(\"\\nPoisoned dataset samples:\")\n",
    "    print(poisoned_df[poisoned_df['is_poisoned'] == True][['title', 'poisoned_description']].head())"
   ]
  }
 ],
 "metadata": {
  "kernelspec": {
   "display_name": "poisoning_detection",
   "language": "python",
   "name": "python3"
  },
  "language_info": {
   "codemirror_mode": {
    "name": "ipython",
    "version": 3
   },
   "file_extension": ".py",
   "mimetype": "text/x-python",
   "name": "python",
   "nbconvert_exporter": "python",
   "pygments_lexer": "ipython3",
   "version": "3.10.11"
  }
 },
 "nbformat": 4,
 "nbformat_minor": 2
}
