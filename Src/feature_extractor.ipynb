{
 "cells": [
  {
   "cell_type": "code",
   "execution_count": 1,
   "metadata": {},
   "outputs": [
    {
     "name": "stdout",
     "output_type": "stream",
     "text": [
      "Characteristic vectors extracted successfully!\n",
      "Vector dimension: 384\n"
     ]
    }
   ],
   "source": [
    "import torch\n",
    "from sentence_transformers import SentenceTransformer\n",
    "import numpy as np\n",
    "\n",
    "class CharacteristicVectorExtractor:\n",
    "    def __init__(self, model_name='all-MiniLM-L6-v2'):\n",
    "        self.model = SentenceTransformer(model_name)\n",
    "        \n",
    "    def extract_characteristics(self, texts):\n",
    "        \"\"\"\n",
    "        Extract characteristic vectors for a list of texts\n",
    "        \"\"\"\n",
    "        characteristics = []\n",
    "        \n",
    "        for text in texts:\n",
    "            # Get embeddings\n",
    "            embedding = self.model.encode(text, show_progress_bar=False)\n",
    "            \n",
    "            # For simplicity, we use the embedding as characteristic vector\n",
    "            # In advanced version, we'll extract from each layer\n",
    "            char_vector = {\n",
    "                'embedding': embedding,\n",
    "                'mean': np.mean(embedding),\n",
    "                'std': np.std(embedding)\n",
    "            }\n",
    "            characteristics.append(char_vector)\n",
    "            \n",
    "        return characteristics\n",
    "    \n",
    "    def batch_extract(self, texts, batch_size=32):\n",
    "        \"\"\"Extract characteristics in batches\"\"\"\n",
    "        all_characteristics = []\n",
    "        \n",
    "        for i in range(0, len(texts), batch_size):\n",
    "            batch = texts[i:i+batch_size]\n",
    "            batch_chars = self.extract_characteristics(batch)\n",
    "            all_characteristics.extend(batch_chars)\n",
    "            \n",
    "        return all_characteristics\n",
    "\n",
    "# Test the extractor\n",
    "if __name__ == \"__main__\":\n",
    "    extractor = CharacteristicVectorExtractor()\n",
    "    test_texts = [\"This is a great movie\", \"Amazing storyline\"]\n",
    "    characteristics = extractor.extract_characteristics(test_texts)\n",
    "    print(\"Characteristic vectors extracted successfully!\")\n",
    "    print(f\"Vector dimension: {len(characteristics[0]['embedding'])}\")"
   ]
  }
 ],
 "metadata": {
  "kernelspec": {
   "display_name": "poisoning_detection",
   "language": "python",
   "name": "python3"
  },
  "language_info": {
   "codemirror_mode": {
    "name": "ipython",
    "version": 3
   },
   "file_extension": ".py",
   "mimetype": "text/x-python",
   "name": "python",
   "nbconvert_exporter": "python",
   "pygments_lexer": "ipython3",
   "version": "3.10.11"
  }
 },
 "nbformat": 4,
 "nbformat_minor": 2
}
